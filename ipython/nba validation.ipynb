{
 "cells": [
  {
   "cell_type": "code",
   "execution_count": 3,
   "metadata": {
    "collapsed": false
   },
   "outputs": [
    {
     "name": "stdout",
     "output_type": "stream",
     "text": [
      "{'MIL': 18, 'GSW': 10, 'MIN': 14, 'MIA': 7, 'WSH': 12, 'ATL': 26, 'BOS': 6, 'DET': 5, 'NYK': 11, 'DEN': 29, 'DAL': 13, 'BKN': 27, 'POR': 9, 'OKC': 16, 'TOR': 20, 'CLE': 25, 'SAS': 3, 'CHA': 17, 'UTA': 21, 'CHI': 1, 'HOU': 4, 'LAL': 0, 'PHI': 2, 'MEM': 19, 'LAC': 15, 'SAC': 23, 'ORL': 8, 'PHX': 22, 'IND': 28, 'NOP': 24}\n"
     ]
    }
   ],
   "source": [
    "import configobj\n",
    "from crate import client\n",
    "import datetime as dt\n",
    "import numpy as np\n",
    "import pandas as pd\n",
    "import matplotlib\n",
    "matplotlib.use(\"nbagg\")\n",
    "import matplotlib.pyplot as plt\n",
    "\n",
    "import pymc3 as pm\n",
    "import theano.tensor as tt\n",
    "\n",
    "from teams import nba_teams\n",
    "team_keys = nba_teams\n",
    "\n",
    "def index_teams(team_keys):\n",
    "    team_index = {}\n",
    "    for i,key in enumerate(team_keys):\n",
    "        team_index[team_keys[key]] = i\n",
    "        \n",
    "    return team_index\n",
    "    \n",
    "team_index = index_teams(team_keys)\n",
    "\n",
    "print team_index"
   ]
  },
  {
   "cell_type": "code",
   "execution_count": null,
   "metadata": {
    "collapsed": false
   },
   "outputs": [],
   "source": [
    "config = configobj.ConfigObj(\"/Users/smacmullin/sports/crate.ini\")\n",
    "crate_host = config[\"crate\"][\"host_url\"]\n",
    "\n",
    "connection = client.connect(crate_host)\n",
    "print connection.client._active_servers\n",
    "cursor = connection.cursor()\n",
    "\n",
    "sql = '''\n",
    "SELECT \n",
    "nba.games.\"GameId\" as \"GameId\", \n",
    "nba.games.\"GameDate\" as \"GameDate\", \n",
    "nba.games.\"HomeTeam\" as \"HomeTeam\", \n",
    "nba.games.\"AwayTeam\" as \"AwayTeam\",\n",
    "nba.results.\"AwayScore\" as \"AwayScore\", \n",
    "nba.results.\"HomeScore\" as \"HomeScore\",\n",
    "nba.lines.\"HomeSpread\" as \"HomeSpread\", \n",
    "nba.lines.\"OverUnder\" as \"OverUnder\",\n",
    "nba.predictions.\"HomeScore\" as \"PredictedHomeScore\",\n",
    "nba.predictions.\"AwayScore\" as \"PredictedAwayScore\"\n",
    "FROM nba.games, nba.lines, nba.results, nba.predictions\n",
    "WHERE nba.games.\"GameId\" = nba.results.\"GameId\"\n",
    "AND nba.games.\"GameId\" = nba.lines.\"GameId\"\n",
    "AND nba.games.\"GameId\" = nba.predictions.\"GameId\"\n",
    "AND nba.games.\"GameDate\" > 20151025\n",
    "ORDER BY nba.games.\"GameDate\" DESC\n",
    "'''\n",
    "\n",
    "df = pd.read_sql(sql, connection)\n",
    "\n",
    "df_final = df.drop_duplicates([\"GameId\"], take_last=True)\n",
    "#print df_final\n",
    "\n",
    "results_final = df_final.to_dict('records')\n",
    "\n",
    "results = []\n",
    "\n",
    "# calculate if we won or lost\n",
    "for game in results2:\n",
    "    \n",
    "    # check if we predicted the game correctly\n",
    "    home_minus_away = int(game['HomeScore'] - game['AwayScore'])\n",
    "    home_minus_away_predicted = int(game['PredictedHomeScore'] - game['PredictedAwayScore'])\n",
    "    if ((home_minus_away ^ home_minus_away_predicted) >= 0): #check if the numbers have the same sign\n",
    "        game['GameOutcome'] = \"Win\"\n",
    "    else:\n",
    "        game['GameOutcome'] = \"Lose\"\n",
    "        \n",
    "    # check if we predicted the over/under correctly   \n",
    "    if (((game['HomeScore'] + game['AwayScore']) > game['OverUnder']) and \\\n",
    "    ((game['PredictedHomeScore'] + game['PredictedAwayScore']) > game['OverUnder'])) or \\\n",
    "    (((game['HomeScore'] + game['AwayScore']) < game['OverUnder']) and \\\n",
    "    ((game['PredictedHomeScore'] + game['PredictedAwayScore']) < game['OverUnder'])):\n",
    "        game['OverUnderOutcome'] = \"Win\"\n",
    "    else:\n",
    "        game['OverUnderOutcome'] = \"Lose\"\n",
    "        \n",
    "    # check if we predicted the spread correctly\n",
    "    if (((game['AwayScore'] - game['HomeScore']) < game['HomeSpread']) and \\\n",
    "    ((game['PredictedAwayScore'] - game['PredictedHomeScore']) < game['HomeSpread'])) or \\\n",
    "    (((game['AwayScore'] - game['HomeScore']) > game['HomeSpread']) and \\\n",
    "    ((game['PredictedAwayScore'] - game['PredictedHomeScore']) > game['HomeSpread'])):\n",
    "        game['SpreadOutcome'] = \"Win\"\n",
    "    else:\n",
    "        game['SpreadOutcome'] = \"Lose\"   \n",
    "        \n",
    "    results.append(game)"
   ]
  },
  {
   "cell_type": "code",
   "execution_count": null,
   "metadata": {
    "collapsed": false
   },
   "outputs": [],
   "source": [
    "bins = np.linspace(-30,30,60)\n",
    "a = [(game['PredictedAwayScore'] - game['PredictedHomeScore']) - game[\"HomeSpread\"] for game in results if game['SpreadOutcome']=='Win']\n",
    "b = [(game['PredictedAwayScore'] - game['PredictedHomeScore']) - game[\"HomeSpread\"] for game in results if game['SpreadOutcome']==\"Lose\"]\n",
    "plt.xlabel(\"Predicted - Offered Point Spread\")\n",
    "plt.hist(a,bins,histtype='step',color='g')\n",
    "plt.hist(b,bins,histtype='step',color='r')\n",
    "plt.show()\n",
    "\n",
    "bins = np.linspace(-30,30,60)\n",
    "a = [(game['PredictedHomeScore'] + game['PredictedAwayScore']) - game['OverUnder'] for game in results if game['OverUnderOutcome']=='Win']\n",
    "a = [(game['PredictedHomeScore'] + game['PredictedAwayScore']) - game['OverUnder'] for game in results if game['OverUnderOutcome']=='Lose']\n",
    "\n",
    "\n",
    "plt.hist(a,bins,histtype='step')\n",
    "plt.xlabel(\"Predicted - Offered O/U\")\n",
    "plt.show()\n",
    "\n",
    "bins = np.linspace(-50,50,50)\n",
    "a = [(game['HomeScore'] + game['AwayScore']) - game['OverUnder'] for game in results]\n",
    "b = [(game['HomeScore'] + game['AwayScore']) - (game['PredictedHomeScore'] + game['PredictedAwayScore']) for game in results]\n",
    "plt.hist(a,bins,histtype='step')\n",
    "plt.hist(b,bins,histtype='step')\n",
    "plt.xlabel(\"Actual -  Predicted O/U\")\n",
    "plt.show()\n",
    "\n",
    "bins = np.linspace(-50,50,50)\n",
    "a = [game['HomeSpread'] - (game['HomeScore'] - game['AwayScore']) for game in results]\n",
    "b = [(game['PredictedHomeScore'] - game['PredictedAwayScore']) - (game['HomeScore'] - game['AwayScore']) for game in results]\n",
    "plt.hist(a,bins,histtype='step',color='b')\n",
    "plt.hist(b,bins,histtype='step',color='g')\n",
    "plt.xlabel(\"Actual -  Predicted Spread\")\n",
    "plt.show()"
   ]
  },
  {
   "cell_type": "code",
   "execution_count": 5,
   "metadata": {
    "collapsed": false
   },
   "outputs": [
    {
     "name": "stdout",
     "output_type": "stream",
     "text": [
      "['http://localhost:4200']\n",
      "[20151001, 20151002, 20151003, 20151004, 20151005, 20151006, 20151007, 20151008, 20151009, 20151010, 20151011, 20151012, 20151013, 20151014, 20151015, 20151016, 20151017, 20151018, 20151019, 20151020, 20151021, 20151022, 20151023, 20151024, 20151025, 20151026, 20151027, 20151028, 20151029, 20151030, 20151031, 20151101, 20151102, 20151103, 20151104, 20151105, 20151106, 20151107, 20151108, 20151109, 20151110, 20151111, 20151112, 20151113, 20151114, 20151115, 20151116, 20151117, 20151118, 20151119, 20151120, 20151121, 20151122, 20151123, 20151124, 20151125, 20151126, 20151127, 20151128, 20151129, 20151130, 20151201, 20151202, 20151203, 20151204, 20151205, 20151206, 20151207, 20151208, 20151209, 20151210, 20151211, 20151212, 20151213, 20151214, 20151215, 20151216, 20151217, 20151218, 20151219, 20151220, 20151221, 20151222, 20151223, 20151224, 20151225, 20151226, 20151227, 20151228, 20151229, 20151230, 20151231, 20160101, 20160102, 20160103, 20160104, 20160105, 20160106, 20160107, 20160108, 20160109, 20160110, 20160111, 20160112, 20160113, 20160114, 20160115, 20160116, 20160117, 20160118, 20160119, 20160120, 20160121, 20160122, 20160123, 20160124, 20160125, 20160126, 20160127, 20160128, 20160129, 20160130, 20160131, 20160201, 20160202, 20160203, 20160204, 20160205, 20160206, 20160207, 20160208, 20160209, 20160210, 20160211, 20160212, 20160213, 20160214, 20160215, 20160216, 20160217, 20160218, 20160219, 20160220, 20160221, 20160222, 20160223, 20160224, 20160225, 20160226, 20160227, 20160228, 20160229, 20160301, 20160302, 20160303, 20160304, 20160305, 20160306, 20160307, 20160308, 20160309, 20160310, 20160311, 20160312, 20160313, 20160314, 20160315, 20160316, 20160317, 20160318, 20160319, 20160320, 20160321, 20160322, 20160323, 20160324, 20160325, 20160326, 20160327, 20160328, 20160329, 20160330, 20160331, 20160401, 20160402, 20160403, 20160404, 20160405, 20160406, 20160407, 20160408, 20160409, 20160410, 20160411, 20160412, 20160413, 20160414, 20160415, 20160416, 20160417, 20160418, 20160419, 20160420, 20160421, 20160422, 20160423, 20160424, 20160425, 20160426, 20160427, 20160428, 20160429, 20160430, 20160501, 20160502, 20160503, 20160504, 20160505, 20160506, 20160507, 20160508, 20160509, 20160510, 20160511, 20160512, 20160513, 20160514, 20160515, 20160516, 20160517, 20160518, 20160519, 20160520, 20160521, 20160522, 20160523, 20160524, 20160525, 20160526, 20160527, 20160528, 20160529, 20160530, 20160531, 20160601, 20160602, 20160603, 20160604, 20160605, 20160606, 20160607]\n"
     ]
    }
   ],
   "source": [
    "config = configobj.ConfigObj(\"/Users/smacmullin/sports/crate.ini\")\n",
    "crate_host = config[\"crate\"][\"host_url\"]\n",
    "\n",
    "connection = client.connect(crate_host)\n",
    "print connection.client._active_servers\n",
    "cursor = connection.cursor()\n",
    "\n",
    "def generate_test_times():\n",
    "\n",
    "    start = dt.date(2015, 10, 01)\n",
    "\n",
    "    test_times = [int(start.strftime('%Y') + start.strftime('%m') + start.strftime('%d'))]\n",
    "\n",
    "    delta = dt.timedelta(days=1)\n",
    "\n",
    "    for d in range(250):\n",
    "\n",
    "        t = start + delta\n",
    "\n",
    "        test_times.append(int(t.strftime('%Y') + t.strftime('%m') + t.strftime('%d')))\n",
    "\n",
    "        start = t\n",
    "\n",
    "    return test_times\n",
    "\n",
    "test_times = generate_test_times()\n",
    "\n",
    "# #look for back to back games, find avg difference in night 2 - night 1 pts scored vs points allowed\n",
    "\n",
    "for team in team_index.keys():\n",
    "    \n",
    "    for date in test_times:\n",
    "    \n",
    "        sql = '''\n",
    "        SELECT\n",
    "        nba.games.\"GameId\" as \"GameId\",\n",
    "        nba.games.\"GameDate\" as \"GameDate\",\n",
    "        nba.games.\"HomeTeam\" as \"HomeTeam\",\n",
    "        nba.games.\"AwayTeam\" as \"AwayTeam\",\n",
    "        nba.results.\"AwayScore\" as \"AwayScore\",\n",
    "        nba.results.\"HomeScore\" as \"HomeScore\",\n",
    "        FROM nba.games, nba.results\n",
    "        WHERE nba.games.\"GameId\" = nba.results.\"GameId\"\n",
    "        AND (nba.games.\"HomeTeam\" = '%s' or nba.games.\"AwayTeam\" = '%s')\n",
    "        AND nbg.games.\"GameDate\"=%s\n",
    "        ''' % (team, team, date)\n",
    "\n",
    "        df = pd.read_sql(sql, connection)"
   ]
  },
  {
   "cell_type": "code",
   "execution_count": 9,
   "metadata": {
    "collapsed": false
   },
   "outputs": [
    {
     "ename": "AttributeError",
     "evalue": "'list' object has no attribute 'next'",
     "output_type": "error",
     "traceback": [
      "\u001b[0;31m---------------------------------------------------------------------------\u001b[0m",
      "\u001b[0;31mAttributeError\u001b[0m                            Traceback (most recent call last)",
      "\u001b[0;32m<ipython-input-9-d3b7bb0f4e85>\u001b[0m in \u001b[0;36m<module>\u001b[0;34m()\u001b[0m\n\u001b[1;32m      1\u001b[0m \u001b[0;32mfor\u001b[0m \u001b[0mi\u001b[0m \u001b[0;32min\u001b[0m \u001b[0mrange\u001b[0m\u001b[0;34m(\u001b[0m\u001b[0mlen\u001b[0m\u001b[0;34m(\u001b[0m\u001b[0mtest_times\u001b[0m\u001b[0;34m)\u001b[0m\u001b[0;34m)\u001b[0m\u001b[0;34m:\u001b[0m\u001b[0;34m\u001b[0m\u001b[0m\n\u001b[0;32m----> 2\u001b[0;31m     \u001b[0;32mprint\u001b[0m \u001b[0mtest_times\u001b[0m\u001b[0;34m.\u001b[0m\u001b[0mnext\u001b[0m\u001b[0;34m(\u001b[0m\u001b[0;34m)\u001b[0m\u001b[0;34m\u001b[0m\u001b[0m\n\u001b[0m",
      "\u001b[0;31mAttributeError\u001b[0m: 'list' object has no attribute 'next'"
     ]
    }
   ],
   "source": [
    "for i in range(len(test_times)):\n",
    "    print test_times.next()"
   ]
  },
  {
   "cell_type": "code",
   "execution_count": null,
   "metadata": {
    "collapsed": true
   },
   "outputs": [],
   "source": []
  }
 ],
 "metadata": {
  "kernelspec": {
   "display_name": "Python 2",
   "language": "python",
   "name": "python2"
  },
  "language_info": {
   "codemirror_mode": {
    "name": "ipython",
    "version": 2
   },
   "file_extension": ".py",
   "mimetype": "text/x-python",
   "name": "python",
   "nbconvert_exporter": "python",
   "pygments_lexer": "ipython2",
   "version": "2.7.12"
  }
 },
 "nbformat": 4,
 "nbformat_minor": 0
}
