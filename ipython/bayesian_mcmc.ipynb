{
 "cells": [
  {
   "cell_type": "code",
   "execution_count": null,
   "metadata": {
    "collapsed": false
   },
   "outputs": [],
   "source": [
    "import configobj\n",
    "from crate import client\n",
    "from fuzzywuzzy import process\n",
    "from fuzzywuzzy import fuzz\n",
    "import numpy as np\n",
    "import pandas as pd\n",
    "import matplotlib\n",
    "matplotlib.use(\"nbagg\")\n",
    "import matplotlib.pyplot as plt\n",
    "\n",
    "import pymc3 as pm\n",
    "import theano.tensor as tt\n",
    "\n",
    "from teams import nba_teams\n",
    "team_keys = nba_teams\n",
    "\n",
    "def index_teams(team_keys):\n",
    "    team_index = {}\n",
    "    for i,key in enumerate(team_keys):\n",
    "        team_index[team_keys[key]] = i\n",
    "        \n",
    "    return team_index\n",
    "    \n",
    "team_index = index_teams(team_keys)\n",
    "\n",
    "def moneyline_from_implied_odds(p):\n",
    "    \n",
    "    if p < 0.5:\n",
    "        return int(-1.*(100. * (p-1.0))/p)\n",
    "    else:\n",
    "        return int((100.*p)/(p-1.0))"
   ]
  },
  {
   "cell_type": "code",
   "execution_count": null,
   "metadata": {
    "collapsed": false
   },
   "outputs": [],
   "source": [
    "config = configobj.ConfigObj(\"/Users/smacmullin/sports/crate.ini\")\n",
    "crate_host = config[\"crate\"][\"host_url\"]\n",
    "\n",
    "connection = client.connect(crate_host)\n",
    "print connection.client._active_servers\n",
    "cursor = connection.cursor()\n",
    "\n",
    "sql = '''\n",
    "SELECT \n",
    "nba.games.\"GameId\" as \"GameId\", \n",
    "nba.games.\"GameDate\" as \"GameDate\", \n",
    "nba.games.\"HomeTeam\" as \"HomeTeam\", \n",
    "nba.games.\"AwayTeam\" as \"AwayTeam\",\n",
    "nba.results.\"AwayScore\" as \"AwayScore\", \n",
    "nba.results.\"HomeScore\" as \"HomeScore\",\n",
    "nba.lines.\"HomeSpread\" as \"HomeSpread\", \n",
    "nba.lines.\"OverUnder\" as \"OverUnder\"\n",
    "FROM nba.games, nba.lines, nba.results\n",
    "WHERE nba.games.\"GameId\" = nba.results.\"GameId\"\n",
    "AND nba.games.\"GameId\" = nba.lines.\"GameId\"\n",
    "AND nba.games.\"GameDate\" > 20151026 AND nba.games.\"GameDate\" < 20151117\n",
    "ORDER BY nba.games.\"GameDate\"\n",
    "LIMIT 30000\n",
    "'''\n",
    "\n",
    "df = pd.read_sql(sql, connection)\n",
    "\n",
    "teams = df.HomeTeam.unique()\n",
    "teams = pd.DataFrame(teams, columns=['Teams'])\n",
    "teams['i'] = teams.index\n",
    "\n",
    "df = pd.merge(df, teams, left_on='HomeTeam', right_on='Teams', how='left')\n",
    "df = df.rename(columns = {'i': 'i_home'})\n",
    "df = pd.merge(df, teams, left_on='AwayTeam', right_on='Teams', how='left')\n",
    "df = df.rename(columns = {'i': 'i_away'})\n",
    "\n",
    "observed_home_score = df['HomeScore'].values\n",
    "observed_away_score = df['AwayScore'].values\n",
    "\n",
    "home_team = df['i_home'].values\n",
    "away_team = df['i_away'].values\n",
    "\n",
    "num_teams = len(df.i_home.drop_duplicates())\n",
    "\n",
    "print df.head()"
   ]
  },
  {
   "cell_type": "code",
   "execution_count": null,
   "metadata": {
    "collapsed": false
   },
   "outputs": [],
   "source": [
    "# this model doesn't have the pitcher information in it\n",
    "\n",
    "model = pm.Model()\n",
    "\n",
    "with pm.Model() as model:\n",
    "    \n",
    "    # global model parameters\n",
    "    baseline_home = pm.Normal('baseline_home', 0., 0.0005)\n",
    "    baseline_away = pm.Normal('baseline_away', 0., 0.0005)\n",
    "    tau = pm.Gamma('tau', 1., 2.) # tau for a normal distribution is 1/sigma**2\n",
    "    \n",
    "    # team-specific model parameters\n",
    "    team_skills = pm.Normal(\"team_skills\",\n",
    "                        mu   = 0.0,\n",
    "                        tau  = tau,\n",
    "                        shape = num_teams)\n",
    "        \n",
    "    team_skill = pm.Deterministic('team_skill', team_skills - tt.mean(team_skills))\n",
    "    \n",
    "    home_theta  = np.exp(baseline_home + team_skill[home_team] - team_skill[away_team])\n",
    "    away_theta  = np.exp(baseline_away + team_skill[away_team] - team_skill[home_team])\n",
    "\n",
    "    # likelihood of observed data\n",
    "    home_points = pm.Poisson('home_points', mu=home_theta, observed=observed_home_score)\n",
    "    away_points = pm.Poisson('away_points', mu=away_theta, observed=observed_away_score)"
   ]
  },
  {
   "cell_type": "code",
   "execution_count": null,
   "metadata": {
    "collapsed": false
   },
   "outputs": [],
   "source": [
    "with model:\n",
    "    start = pm.find_MAP()\n",
    "    step = pm.NUTS(state=start)\n",
    "    trace = pm.sample(5000, step, start=start)\n",
    "    pm.traceplot(trace)\n",
    "    plt.show()\n",
    "    \n",
    "pm.forestplot(trace, ylabels=teams.values, varnames=['team_skills'], main=\"Team Skill\")\n",
    "plt.show()\n",
    "\n",
    "# #write the trace to a file\n",
    "# with open(\"/Users/smacmullin/mlb/modeltrace_mlb_db_060116_071516.pkl\",\"wb\") as fp:\n",
    "#     cPickle.dump(trace,fp,cPickle.HIGHEST_PROTOCOL)"
   ]
  },
  {
   "cell_type": "code",
   "execution_count": null,
   "metadata": {
    "collapsed": false
   },
   "outputs": [],
   "source": []
  },
  {
   "cell_type": "markdown",
   "metadata": {},
   "source": [
    "# import the model"
   ]
  },
  {
   "cell_type": "code",
   "execution_count": null,
   "metadata": {
    "collapsed": false
   },
   "outputs": [],
   "source": [
    "# import cPickle\n",
    "# model = pm.Model()\n",
    "# with open(\"/Users/smacmullin/mlb/modeltrace_2016_june.pkl\",\"rb\") as fp:\n",
    "#     with model:\n",
    "#         trace = cPickle.load(fp)\n",
    "        \n",
    "baseline_home = trace['baseline_home']\n",
    "baseline_away = trace['baseline_away']\n",
    "#print teams.values\n",
    "team_skills_likelihood = trace['team_skill']\n",
    "team_skill = {}\n",
    "for val in teams.values:\n",
    "    team_skill[val[0]]=[j[val[1]] for j in team_skills_likelihood]"
   ]
  },
  {
   "cell_type": "markdown",
   "metadata": {},
   "source": [
    "# simulate the outcome of a single game"
   ]
  },
  {
   "cell_type": "code",
   "execution_count": null,
   "metadata": {
    "collapsed": false
   },
   "outputs": [],
   "source": [
    "away_team='NYK'\n",
    "home_team='SAS'\n",
    "\n",
    "#theta\n",
    "home_theta  = np.exp(baseline_home + team_skill[home_team] - team_skill[away_team])\n",
    "away_theta  = np.exp(baseline_away + team_skill[away_team] - team_skill[home_team])\n",
    "    \n",
    "home_scores = np.random.poisson(home_theta)\n",
    "away_scores = np.random.poisson(away_theta)\n",
    "\n",
    "predicted_home_score = np.average(home_scores)\n",
    "stdev_home_score = np.std(home_scores)\n",
    "predicted_away_score = np.average(away_scores)\n",
    "stdev_away_score = np.std(away_scores)\n",
    "\n",
    "#predict the score\n",
    "print \"Predicted Away Score (%s): %s +/- %s\"%(away_team, predicted_away_score, stdev_away_score)\n",
    "print \"Predicted Home Score (%s): %s +/- %s\"%(home_team, predicted_home_score, stdev_home_score)\n",
    "\n",
    "#predict the spread\n",
    "predicted_spread = np.average([aws-hs for hs,aws in zip(home_scores,away_scores)])\n",
    "std_spread = np.std([aws-hs for hs,aws in zip(home_scores,away_scores)])\n",
    "print \"Predicted Home Spread: %s +/- %s\"%(predicted_spread, std_spread)\n",
    "#predict the o/u\n",
    "predicted_ou = np.average([aws+hs for hs,aws in zip(home_scores,away_scores)])\n",
    "std_ou = np.std([aws+hs for hs,aws in zip(home_scores,away_scores)])\n",
    "print \"Predicted Over Under: %s +/- %s\"%(predicted_ou, std_ou)"
   ]
  },
  {
   "cell_type": "code",
   "execution_count": null,
   "metadata": {
    "collapsed": false
   },
   "outputs": [],
   "source": [
    "# query for a test set of games\n",
    "sql = '''\n",
    "SELECT \n",
    "nba.games.\"GameId\" as \"GameId\", \n",
    "nba.games.\"GameDate\" as \"GameDate\", \n",
    "nba.games.\"HomeTeam\" as \"HomeTeam\", \n",
    "nba.games.\"AwayTeam\" as \"AwayTeam\",\n",
    "nba.results.\"AwayScore\" as \"AwayScore\", \n",
    "nba.results.\"HomeScore\" as \"HomeScore\",\n",
    "nba.lines.\"HomeSpread\" as \"HomeSpread\", \n",
    "nba.lines.\"OverUnder\" as \"OverUnder\"\n",
    "FROM nba.games, nba.lines, nba.results\n",
    "WHERE nba.games.\"GameId\" = nba.results.\"GameId\"\n",
    "AND nba.games.\"GameId\" = nba.lines.\"GameId\"\n",
    "AND nba.games.\"GameDate\" > 20151117 AND nba.games.\"GameDate\" < 20151124\n",
    "ORDER BY nba.games.\"GameDate\"\n",
    "LIMIT 30000\n",
    "'''\n",
    "df = pd.read_sql(sql, connection)\n",
    "print df\n",
    "test_records = df.to_dict('records')"
   ]
  },
  {
   "cell_type": "code",
   "execution_count": null,
   "metadata": {
    "collapsed": false
   },
   "outputs": [],
   "source": [
    "ou_counter = 0.0\n",
    "spread_counter = 0.0\n",
    "\n",
    "for game in test_records:\n",
    "    \n",
    "    away_team = game[\"AwayTeam\"]\n",
    "    home_team = game[\"HomeTeam\"]\n",
    "    \n",
    "    #theta\n",
    "    home_theta  = np.exp(baseline_home + team_skill[home_team] - team_skill[away_team])\n",
    "    away_theta  = np.exp(baseline_away + team_skill[away_team] - team_skill[home_team])\n",
    "\n",
    "    home_scores = np.random.poisson(home_theta)\n",
    "    away_scores = np.random.poisson(away_theta)\n",
    "\n",
    "    predicted_home_score = np.average(home_scores)\n",
    "    predicted_away_score = np.average(away_scores)\n",
    "    predicted_spread = np.average([aws-hs for hs,aws in zip(home_scores,away_scores)])\n",
    "    predicted_ou = np.average([aws+hs for hs,aws in zip(home_scores,away_scores)])\n",
    "    \n",
    "\n",
    "    # over/under validation\n",
    "    \n",
    "    if predicted_ou > game['OverUnder']:\n",
    "        ou_bet = 1\n",
    "    else:\n",
    "        ou_bet = 0\n",
    "        \n",
    "    if (game['HomeScore'] + game['AwayScore']) > game['OverUnder']:\n",
    "        ou_outcome = 1\n",
    "    else:\n",
    "        ou_outcome = 0\n",
    "        \n",
    "    if ou_outcome==ou_bet:\n",
    "        \n",
    "        ou_counter+=1.0\n",
    "        \n",
    "#     spread: H -10 predicts home to win by 10\n",
    "#     prediction H -12 predicts home to win by 12\n",
    "#     actual away (120) - home (140) = -20\n",
    "    \n",
    "    # spread bet validation\n",
    "    \n",
    "    if predicted_spread < game[\"HomeSpread\"]:\n",
    "        home_bet = 1\n",
    "    else:\n",
    "        home_bet = 0\n",
    "        \n",
    "    if (game['AwayScore'] - game['HomeScore']) < game[\"HomeSpread\"]:\n",
    "        home_outcome = 1\n",
    "    else:\n",
    "        home_outcome = 0\n",
    "        \n",
    "    if home_bet == home_outcome:\n",
    "        spread_counter+=1.0\n",
    "    \n",
    "print ou_counter/len(test_records)\n",
    "print spread_counter/len(test_records) "
   ]
  },
  {
   "cell_type": "code",
   "execution_count": null,
   "metadata": {
    "collapsed": true
   },
   "outputs": [],
   "source": []
  }
 ],
 "metadata": {
  "kernelspec": {
   "display_name": "Python 2",
   "language": "python",
   "name": "python2"
  },
  "language_info": {
   "codemirror_mode": {
    "name": "ipython",
    "version": 2
   },
   "file_extension": ".py",
   "mimetype": "text/x-python",
   "name": "python",
   "nbconvert_exporter": "python",
   "pygments_lexer": "ipython2",
   "version": "2.7.12"
  }
 },
 "nbformat": 4,
 "nbformat_minor": 0
}
