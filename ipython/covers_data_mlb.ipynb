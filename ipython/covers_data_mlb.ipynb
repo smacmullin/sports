{
 "cells": [
  {
   "cell_type": "code",
   "execution_count": null,
   "metadata": {
    "collapsed": false
   },
   "outputs": [],
   "source": [
    "import configobj\n",
    "from crate import client\n",
    "from fuzzywuzzy import process\n",
    "from fuzzywuzzy import fuzz\n",
    "import numpy as np\n",
    "import pandas as pd\n",
    "import matplotlib\n",
    "matplotlib.use(\"nbagg\")\n",
    "import matplotlib.pyplot as plt\n",
    "import re\n",
    "from teams import mlb_teams\n",
    "team_keys = mlb_teams"
   ]
  },
  {
   "cell_type": "code",
   "execution_count": null,
   "metadata": {
    "collapsed": false
   },
   "outputs": [],
   "source": [
    "dfsub = pd.read_excel(\"../data/MLB_DB_2015.xlsx\")\n",
    "\n",
    "dfsub_dict = dfsub.to_dict('list')\n",
    "\n",
    "home_team = []\n",
    "away_team = []\n",
    "\n",
    "for full_team, vs_team in zip(dfsub_dict['Team'],dfsub_dict['Vs']):\n",
    "\n",
    "    if vs_team.split()[0]=='@':\n",
    "        \n",
    "        away_team.append(team_keys[full_team])\n",
    "        home_team.append(vs_team.split()[1])\n",
    "        \n",
    "    else:\n",
    "        \n",
    "        away_team.append(vs_team)\n",
    "        home_team.append(team_keys[full_team])\n",
    "        \n",
    "dfsub_dict[\"Home\"]=home_team\n",
    "dfsub_dict[\"Visitor\"]=away_team\n",
    "\n",
    "dfsub = pd.DataFrame(dfsub_dict)\n",
    "\n",
    "print dfsub.head(100)\n",
    "\n",
    "dfsub.to_csv(\"test.csv\")"
   ]
  },
  {
   "cell_type": "code",
   "execution_count": null,
   "metadata": {
    "collapsed": false
   },
   "outputs": [],
   "source": [
    "games = []\n",
    "\n",
    "nrows = len(dfsub.Season)\n",
    "\n",
    "for i,row in enumerate(dfsub.iterrows()):\n",
    "    if i%10.==0:\n",
    "        print i, nrows\n",
    "            \n",
    "    for row2 in dfsub.iterrows():\n",
    "\n",
    "        if row[1]['Date']==row2[1]['Date'] \\\n",
    "            and row[1]['Runs Scr']==row2[1]['Runs Alw'] \\\n",
    "            and row[1]['O/U Line']==row2[1]['O/U Line'] \\\n",
    "            and row[1]['Home']==row2[1]['Home'] \\\n",
    "            and row[1]['Visitor']==row2[1]['Visitor'] \\\n",
    "            and row[1]['FIELD']=='HOME':\n",
    "\n",
    "                home_score = row[1]['Runs Scr']\n",
    "                home_starter = row[1]['Home Starter']\n",
    "                away_starter = row[1]['Away Starter']\n",
    "                away_score = row[1]['Runs Alw']\n",
    "                home_line = row[1]['Side Line']\n",
    "                away_line = row2[1]['Side Line']\n",
    "                over_under = row[1]['O/U Line']\n",
    "\n",
    "                date = row[1]['Date']\n",
    "                intdate = int(date.strftime('%Y%m%d'))\n",
    "\n",
    "                games.append({'Home':row[1]['Home'],\n",
    "                              'Away':row[1]['Visitor'],\n",
    "                              'Date':intdate,\n",
    "                              'Home Score':home_score,\n",
    "                              'Away Score':away_score,\n",
    "                              'Home Starter':home_starter,\n",
    "                              'Away Starter':away_starter,\n",
    "                              'Home Line':home_line,\n",
    "                              'Away Line':away_line,\n",
    "                              'Over Under':over_under})"
   ]
  },
  {
   "cell_type": "code",
   "execution_count": null,
   "metadata": {
    "collapsed": false
   },
   "outputs": [],
   "source": [
    "dfgames = pd.DataFrame(games)\n",
    "dfgames.drop_duplicates(inplace='True')\n",
    "print dfgames"
   ]
  },
  {
   "cell_type": "code",
   "execution_count": null,
   "metadata": {
    "collapsed": false
   },
   "outputs": [],
   "source": [
    "dictgames = dfgames.to_dict('records')\n",
    "print len(dictgames)\n",
    "print dictgames[0]"
   ]
  },
  {
   "cell_type": "code",
   "execution_count": null,
   "metadata": {
    "collapsed": false
   },
   "outputs": [],
   "source": [
    "config = configobj.ConfigObj(\"/Users/smacmullin/sports/crate.ini\")\n",
    "crate_host = config[\"crate\"][\"host_url\"]\n",
    "\n",
    "connection = client.connect(crate_host)\n",
    "print connection.client._active_servers\n",
    "cursor = connection.cursor()\n",
    "\n",
    "for game in dictgames:\n",
    "    \n",
    "        game_id = str(game['Date']) + '_' + game['Away'] + '_' + game['Home']\n",
    "        #check if the game is already in the databse\n",
    "        query = '''SELECT * from mlb.games WHERE \"GameId\"='%s' '''%game_id\n",
    "\n",
    "        cursor.execute(query)\n",
    "        if len([row for row in cursor]) == 0:\n",
    "\n",
    "            #games\n",
    "            row = [game_id, game['Home'], game['Away'], game['Date'], game['Home Starter'], game['Away Starter']]\n",
    "            query = '''INSERT INTO mlb.games (\"GameId\",\"HomeTeam\", \"AwayTeam\", \"GameDate\", \"HomeStarter\", \"AwayStarter\") VALUES (?,?,?,?,?,?)'''\n",
    "            cursor.execute(query, row)\n",
    "            #lines\n",
    "            row = [game_id, game['Home Line'], game['Away Line'], game['Over Under']]\n",
    "            query = '''INSERT INTO mlb.lines (\"GameId\", \"HomeLine\", \"AwayLine\", \"OverUnder\")\n",
    "                    VALUES (?,?,?,?)'''\n",
    "            cursor.execute(query, row)\n",
    "            #results\n",
    "            row = [game_id, game['Home Score'], game['Away Score']]\n",
    "            query = '''INSERT INTO mlb.results (\"GameId\", \"HomeScore\", \"AwayScore\")\n",
    "                    VALUES (?,?,?)'''\n",
    "            cursor.execute(query, row)"
   ]
  },
  {
   "cell_type": "code",
   "execution_count": null,
   "metadata": {
    "collapsed": false
   },
   "outputs": [],
   "source": [
    "config = configobj.ConfigObj(\"/Users/smacmullin/sports/crate.ini\")\n",
    "crate_host = config[\"crate\"][\"host_url\"]\n",
    "\n",
    "connection = client.connect(crate_host)\n",
    "print connection.client._active_servers\n",
    "cursor = connection.cursor()\n",
    "\n",
    "pitcher_dataset = pd.read_csv(\"/Users/smacmullin/sports/data/MLB_pitchers_2014.csv\")#,delimiter='\\t')\n",
    "print pitcher_dataset.head()\n",
    "\n",
    "pitcher_dataset_dict = pitcher_dataset.to_dict(\"records\")\n",
    "for entry in pitcher_dataset_dict:\n",
    "\n",
    "    pitcher = entry['Name'].decode('utf-8','ignore')\n",
    "    pitcher = re.sub(r\"(?<=\\w)([A-Z])\", r\" \\1\", pitcher)\n",
    "\n",
    "    wlpct = entry['W-L%'] # convert NaN to 0\n",
    "    if np.isnan(entry['W-L%']):\n",
    "        wlpct = 0.0\n",
    "    era = entry['ERA']\n",
    "    if np.isnan(entry['ERA']) or np.isinf(entry['ERA']):\n",
    "        era = 0.0\n",
    "        \n",
    "    row = [2014, pitcher, entry['UniqueName'], entry['Tm'], wlpct, era, \n",
    "           entry['W'], entry['L'], entry['G'], entry['GS'], entry['GF'], entry['IP']]\n",
    "    \n",
    "    query = '''INSERT INTO mlb.pitchers (\"Season\",\"Name\", \"UniqueName\", \"Team\", \"WLPct\", \"ERA\", \"Wins\", \"Losses\", \"Games\", \"GamesStarted\", \"GamesFinished\", \"InningsPitched\") VALUES (?,?,?,?,?,?,?,?,?,?,?,?)'''\n",
    "    cursor.execute(query, row)\n",
    "\n",
    "# \"Season\" int,\n",
    "# \"Name\" string,\n",
    "# \"UniqueName\" string,\n",
    "# \"Team\" string,\n",
    "# \"WLPct\" float,\n",
    "# \"ERA\" float,\n",
    "# \"Wins\" int,\n",
    "# \"Losses\" int,\n",
    "# \"Games\" int,\n",
    "# \"GamesStarted\" int,\n",
    "# \"GamesFinished\" int,\n",
    "# \"InningsPitched\" float"
   ]
  },
  {
   "cell_type": "code",
   "execution_count": null,
   "metadata": {
    "collapsed": false
   },
   "outputs": [],
   "source": [
    "pitching_dataset = pd.read_csv(\"/Users/smacmullin/sports/data/MLB_pitching_2014.csv\")\n",
    "print pitching_dataset.head()\n",
    "\n",
    "pitching_dataset_dict = pitching_dataset.to_dict(\"records\")\n",
    "for entry in pitching_dataset_dict:\n",
    "     \n",
    "    row = [2014, entry['Tm'], entry['RAPG'], entry['ERA']]\n",
    "    #print row\n",
    "    query = '''INSERT INTO mlb.pitching (\"Season\", \"Team\", \"RAPG\", \"ERA\") VALUES (?,?,?,?)'''\n",
    "    cursor.execute(query, row)\n",
    "    \n",
    "# \"Season\" int,\n",
    "# \"Team\" string,\n",
    "# \"RAPG\" float,\n",
    "# \"ERA\" float,"
   ]
  },
  {
   "cell_type": "code",
   "execution_count": null,
   "metadata": {
    "collapsed": false
   },
   "outputs": [],
   "source": [
    "batting_dataset = pd.read_csv(\"/Users/smacmullin/sports/data/MLB_batting_2014.csv\")\n",
    "print batting_dataset.head()\n",
    "\n",
    "batting_dataset_dict = batting_dataset.to_dict(\"records\")\n",
    "for entry in batting_dataset_dict:\n",
    "\n",
    "    row = [2014, entry['Tm'], entry['R/G'], entry['OBP']]\n",
    "    #print row\n",
    "    query = '''INSERT INTO mlb.batting (\"Season\",\"Team\", \"RPG\", \"OBP\") VALUES (?,?,?,?)'''\n",
    "    cursor.execute(query, row)\n",
    "    \n",
    "# \"Season\" int,\n",
    "# \"Team\" string,\n",
    "# \"RPG\" float,\n",
    "# \"OBP\" float,"
   ]
  },
  {
   "cell_type": "code",
   "execution_count": null,
   "metadata": {
    "collapsed": true
   },
   "outputs": [],
   "source": []
  }
 ],
 "metadata": {
  "kernelspec": {
   "display_name": "Python 2",
   "language": "python",
   "name": "python2"
  },
  "language_info": {
   "codemirror_mode": {
    "name": "ipython",
    "version": 2
   },
   "file_extension": ".py",
   "mimetype": "text/x-python",
   "name": "python",
   "nbconvert_exporter": "python",
   "pygments_lexer": "ipython2",
   "version": "2.7.12"
  }
 },
 "nbformat": 4,
 "nbformat_minor": 0
}
