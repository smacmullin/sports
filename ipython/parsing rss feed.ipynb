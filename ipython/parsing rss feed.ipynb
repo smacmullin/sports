{
 "cells": [
  {
   "cell_type": "code",
   "execution_count": null,
   "metadata": {
    "collapsed": false
   },
   "outputs": [],
   "source": [
    "import urllib2\n",
    "from xml.etree import ElementTree as etree\n",
    "file = urllib2.urlopen('https://www.sportsbook.ag/rss/nfl-football')\n",
    "data = file.read()\n",
    "print data"
   ]
  },
  {
   "cell_type": "code",
   "execution_count": null,
   "metadata": {
    "collapsed": false
   },
   "outputs": [],
   "source": [
    "import re\n",
    "root = etree.fromstring(data)\n",
    "item = root.findall('channel/item')\n",
    "feed = []\n",
    "for entry in item:\n",
    "    desc = entry.findtext('description')\n",
    "    feed.append([desc])\n",
    "for f in feed:\n",
    "    parsed_string = (re.sub(r'<.+?>', '', f[0]))\n",
    "    for atom in parsed_string.split('\\n'):\n",
    "        print atom\n",
    "    print\n",
    "    \n",
    "# row = {'id':'BUF_MIA_102316',\n",
    "#       'gametime':\n",
    "#       'timestamp':\n",
    "#       'home':\n",
    "#       'away':\n",
    "#       'over_points':\n",
    "#       'under_points':\n",
    "#       'over_payout':\n",
    "#       'under_payout':\n",
    "#       'home_points':\n",
    "#       'home_payout':\n",
    "#       'away_points':\n",
    "#       'away_payout':\n",
    "#       'home_ml':\n",
    "#       'away_ml':}"
   ]
  },
  {
   "cell_type": "code",
   "execution_count": null,
   "metadata": {
    "collapsed": true
   },
   "outputs": [],
   "source": [
    "# for atype in root.findall('type'):\n",
    "#     print atype\n",
    "item = root.findall('channe/item')\n",
    "for entry in item:\n",
    "    print entry.findtext('Bet')"
   ]
  },
  {
   "cell_type": "code",
   "execution_count": null,
   "metadata": {
    "collapsed": true
   },
   "outputs": [],
   "source": []
  }
 ],
 "metadata": {
  "kernelspec": {
   "display_name": "Python 2",
   "language": "python",
   "name": "python2"
  },
  "language_info": {
   "codemirror_mode": {
    "name": "ipython",
    "version": 2
   },
   "file_extension": ".py",
   "mimetype": "text/x-python",
   "name": "python",
   "nbconvert_exporter": "python",
   "pygments_lexer": "ipython2",
   "version": "2.7.12"
  }
 },
 "nbformat": 4,
 "nbformat_minor": 0
}
