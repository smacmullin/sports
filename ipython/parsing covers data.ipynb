{
 "cells": [
  {
   "cell_type": "code",
   "execution_count": null,
   "metadata": {
    "collapsed": false
   },
   "outputs": [],
   "source": [
    "import configobj\n",
    "from crate import client\n",
    "from fuzzywuzzy import process\n",
    "from fuzzywuzzy import fuzz\n",
    "import numpy as np\n",
    "import pandas as pd\n",
    "import matplotlib\n",
    "matplotlib.use(\"nbagg\")\n",
    "import matplotlib.pyplot as plt\n",
    "from teams import nba_teams\n",
    "team_keys = nba_teams"
   ]
  },
  {
   "cell_type": "code",
   "execution_count": null,
   "metadata": {
    "collapsed": false
   },
   "outputs": [],
   "source": [
    "dfsub = pd.read_excel(\"../nba_2016_2017.xlsx\")\n",
    "\n",
    "print dfsub\n",
    "\n",
    "dfsub_dict = dfsub.to_dict('list')\n",
    "home_team = []\n",
    "away_team = []\n",
    "\n",
    "for full_team, vs_team in zip(dfsub_dict['Team'],dfsub_dict['Vs']):\n",
    "    \n",
    "    if vs_team.split()[0]=='@':\n",
    "        \n",
    "        guesses = process.extract(full_team, nba_teams.keys(), limit=4)\n",
    "        matches = []\n",
    "        for guess in guesses:\n",
    "            ratio = fuzz.ratio(guess, full_team)\n",
    "            matches.append({'team': guess[0],\n",
    "                            'fuzz': guess[1],\n",
    "                            'ratio': ratio})\n",
    "        max_match = max(matches, key=lambda x: x['ratio'])\n",
    "        team_longname = max_match['team']        \n",
    "        #print full_team, team_longname, team_keys[team_longname]\n",
    "        away_team.append(team_keys[team_longname])\n",
    "        \n",
    "        guesses = process.extract(vs_team, nba_teams.keys(), limit=4)\n",
    "        matches = []\n",
    "        for guess in guesses:\n",
    "            ratio = fuzz.ratio(guess, vs_team)\n",
    "            matches.append({'team': guess[0],\n",
    "                            'fuzz': guess[1],\n",
    "                            'ratio': ratio})\n",
    "        max_match = max(matches, key=lambda x: x['ratio'])\n",
    "        team_longname = max_match['team']\n",
    "        #print vs_team, team_longname, team_keys[team_longname]\n",
    "        home_team.append(team_keys[team_longname])\n",
    "        \n",
    "    else:\n",
    "\n",
    "        guesses = process.extract(vs_team, nba_teams.keys(), limit=4)\n",
    "        matches = []\n",
    "        for guess in guesses:\n",
    "            ratio = fuzz.ratio(guess, vs_team)\n",
    "            matches.append({'team': guess[0],\n",
    "                            'fuzz': guess[1],\n",
    "                            'ratio': ratio})\n",
    "\n",
    "        max_match = max(matches, key=lambda x: x['ratio'])\n",
    "        team_longname = max_match['team']\n",
    "        #print vs_team, team_longname, team_keys[team_longname]\n",
    "        away_team.append(team_keys[team_longname])\n",
    "        \n",
    "        guesses = process.extract(full_team, nba_teams.keys(), limit=4)\n",
    "        matches = []\n",
    "        for guess in guesses:\n",
    "            ratio = fuzz.ratio(guess, full_team)\n",
    "            matches.append({'team': guess[0],\n",
    "                            'fuzz': guess[1],\n",
    "                            'ratio': ratio})\n",
    "        max_match = max(matches, key=lambda x: x['ratio'])\n",
    "        team_longname = max_match['team']\n",
    "        #print full_team, team_longname, team_keys[team_longname]\n",
    "        home_team.append(team_keys[team_longname])\n",
    "       \n",
    "dfsub_dict[\"Home\"]=home_team\n",
    "dfsub_dict[\"Visitor\"]=away_team\n",
    "\n",
    "dfsub = pd.DataFrame(dfsub_dict)\n",
    "\n",
    "print dfsub.head(100)"
   ]
  },
  {
   "cell_type": "code",
   "execution_count": null,
   "metadata": {
    "collapsed": false
   },
   "outputs": [],
   "source": [
    "games = []\n",
    "\n",
    "nrows = len(dfsub.Season)\n",
    "\n",
    "for i,row in enumerate(dfsub.iterrows()):\n",
    "    if i%10.==0:\n",
    "        print i, nrows\n",
    "    for row2 in dfsub.iterrows():\n",
    "        if row[1]['Date']==row2[1]['Date'] and row[1]['Pts Scr']==row2[1]['Pts Alw.1'] and row[1]['O/U Line']==row2[1]['O/U Line'] and row[1]['Type']==row2[1]['Type']:\n",
    "            \n",
    "            if row[1]['FIELD']=='HOME':\n",
    "                home_score = row[1]['Pts Scr']\n",
    "                away_score = row[1]['Pts Alw.1']\n",
    "                home_line = row[1]['Side Line']\n",
    "                away_line = row2[1]['Side Line']\n",
    "                over_under = row[1]['O/U Line']\n",
    "                gametype = row[1]['Type']\n",
    "            else:\n",
    "                home_score = row[1]['Pts Alw.1']\n",
    "                away_score = row[1]['Pts Scr']\n",
    "                home_line = row2[1]['Side Line']\n",
    "                away_line = row[1]['Side Line']\n",
    "                over_under = row[1]['O/U Line']\n",
    "                gametype = row[1]['Type']\n",
    "            \n",
    "            date = row[1]['Date']\n",
    "            intdate = int(date.strftime('%Y%m%d'))\n",
    "            \n",
    "            games.append({'Home':row[1]['Home'],\n",
    "                          'Away':row[1]['Visitor'],\n",
    "                          'Date':intdate,\n",
    "                          'Home Score':home_score,\n",
    "                          'Away Score':away_score,\n",
    "                          'Home Line':home_line,\n",
    "                          'Away Line':away_line,\n",
    "                          'Over Under':over_under,\n",
    "                          'Game Type':gametype})"
   ]
  },
  {
   "cell_type": "code",
   "execution_count": null,
   "metadata": {
    "collapsed": false
   },
   "outputs": [],
   "source": [
    "dfgames = pd.DataFrame(games)\n",
    "dfgames.drop_duplicates(inplace='True')\n",
    "print dfgames"
   ]
  },
  {
   "cell_type": "code",
   "execution_count": null,
   "metadata": {
    "collapsed": false
   },
   "outputs": [],
   "source": [
    "dictgames = dfgames.to_dict('records')\n",
    "print len(dictgames)\n",
    "print dictgames[0]"
   ]
  },
  {
   "cell_type": "code",
   "execution_count": null,
   "metadata": {
    "collapsed": false
   },
   "outputs": [],
   "source": [
    "config = configobj.ConfigObj(\"/Users/smacmullin/sports/crate.ini\")\n",
    "crate_host = config[\"crate\"][\"host_url\"]\n",
    "\n",
    "connection = client.connect(crate_host)\n",
    "print connection.client._active_servers\n",
    "cursor = connection.cursor()\n",
    "\n",
    "for game in dictgames:\n",
    "    \n",
    "        game_id = str(game['Date']) + '_' + game['Away'] + '_' + game['Home']\n",
    "        #check if the game is already in the databse\n",
    "        query = '''SELECT * from nba.games WHERE \"GameId\"='%s' '''%game_id\n",
    "\n",
    "        cursor.execute(query)\n",
    "        if len([row for row in cursor]) == 0:\n",
    "\n",
    "            #games\n",
    "            row = [game_id, game['Home'], game['Away'], game['Date']]\n",
    "            query = '''INSERT INTO nba.games (\"GameId\",\"HomeTeam\", \"AwayTeam\", \"GameDate\") VALUES (?,?,?,?)'''\n",
    "            cursor.execute(query, row)\n",
    "            #lines\n",
    "            row = [game_id, game['Home Line'], game['Over Under']]\n",
    "            query = '''INSERT INTO nba.lines (\"GameId\", \"HomeSpread\", \"OverUnder\")\n",
    "                    VALUES (?,?,?)'''\n",
    "            cursor.execute(query, row)\n",
    "            #results\n",
    "            row = [game_id, game['Home Score'], game['Away Score']]\n",
    "            query = '''INSERT INTO nba.results (\"GameId\", \"HomeScore\", \"AwayScore\")\n",
    "                    VALUES (?,?,?)'''\n",
    "            cursor.execute(query, row)"
   ]
  },
  {
   "cell_type": "code",
   "execution_count": null,
   "metadata": {
    "collapsed": true
   },
   "outputs": [],
   "source": []
  }
 ],
 "metadata": {
  "kernelspec": {
   "display_name": "Python 2",
   "language": "python",
   "name": "python2"
  },
  "language_info": {
   "codemirror_mode": {
    "name": "ipython",
    "version": 2
   },
   "file_extension": ".py",
   "mimetype": "text/x-python",
   "name": "python",
   "nbconvert_exporter": "python",
   "pygments_lexer": "ipython2",
   "version": "2.7.12"
  }
 },
 "nbformat": 4,
 "nbformat_minor": 0
}
