{
 "cells": [
  {
   "cell_type": "code",
   "execution_count": null,
   "metadata": {
    "collapsed": false
   },
   "outputs": [],
   "source": [
    "import configobj\n",
    "import cPickle\n",
    "from crate import client\n",
    "import glob\n",
    "import numpy as np\n",
    "import pandas as pd\n",
    "import matplotlib\n",
    "matplotlib.use(\"nbagg\")\n",
    "import matplotlib.pyplot as plt\n",
    "from teams import nba_teams\n",
    "team_keys = nba_teams\n",
    "\n",
    "config = configobj.ConfigObj(\"/Users/smacmullin/sports/crate.ini\")\n",
    "crate_host = config[\"crate\"][\"host_url\"]\n",
    "\n",
    "connection = client.connect(crate_host)\n",
    "print connection.client._active_servers\n",
    "cursor = connection.cursor()"
   ]
  },
  {
   "cell_type": "code",
   "execution_count": null,
   "metadata": {
    "collapsed": false
   },
   "outputs": [],
   "source": [
    "files = glob.glob(\"/Users/smacmullin/sports/2015models/results/*\")\n",
    "for f in files:\n",
    "    with open(f,'rb') as fp:\n",
    "        results = cPickle.load(fp)\n",
    "        \n",
    "    for game in results:\n",
    "        \n",
    "        row = [game[\"GameId\"], game[\"Spread\"], game[\"StdSpread\"], game[\"OU\"], game[\"StdOU\"], game[\"Games\"]]\n",
    "        query = '''INSERT INTO nba.predictions (\"GameId\", \"Spread\", \"SpreadStdev\", \"OU\", \"OUStdev\", \"N\")\n",
    "                VALUES (?,?,?,?,?,?)'''\n",
    "        cursor.execute(query, row)"
   ]
  },
  {
   "cell_type": "code",
   "execution_count": null,
   "metadata": {
    "collapsed": false,
    "scrolled": true
   },
   "outputs": [],
   "source": [
    "sql = '''select nba.results.\"GameId\", (nba.results.\"AwayScore\" - nba.results.\"HomeScore\") as \"Result\", \n",
    "nba.predictions.\"Spread\" as \"Prediction\", nba.lines.\"HomeSpread\" as \"Offered\",\n",
    "nba.predictions.\"Spread\" - (nba.results.\"AwayScore\" - nba.results.\"HomeScore\") as \"P-R\",\n",
    "nba.lines.\"HomeSpread\" - (nba.results.\"AwayScore\" - nba.results.\"HomeScore\") as \"O-R\"\n",
    "FROM nba.results, nba.predictions, nba.lines\n",
    "WHERE nba.results.\"GameId\"=nba.predictions.\"GameId\" AND nba.results.\"GameId\"=nba.lines.\"GameId\"\n",
    "AND nba.predictions.\"N\"=6'''\n",
    "\n",
    "df = pd.read_sql(sql, connection)\n",
    "print df.head()\n",
    "\n",
    "result = df[\"Result\"].values\n",
    "prediction = df[\"Prediction\"].values\n",
    "offered = df[\"Offered\"].values\n",
    "\n",
    "bins = np.linspace(-50,50,20)\n",
    "plt.hist(result-prediction,bins,histtype='step',color='b',label=\"Model\")\n",
    "plt.hist(result-offered,bins,histtype='step',color='g',label=\"Line\")\n",
    "plt.xlabel(\"Actual -  Predicted Spread\")\n",
    "plt.legend()\n",
    "plt.show()\n",
    "\n",
    "win_counter = 0.\n",
    "for r,p,o in zip(result, prediction, offered):\n",
    "    if np.abs((p-r)) < np.abs((o-r)):\n",
    "    #if np.abs((np.random.normal(0,10))) < np.abs(o-r):\n",
    "        win_counter+=1.\n",
    "print win_counter/len(result)"
   ]
  },
  {
   "cell_type": "code",
   "execution_count": null,
   "metadata": {
    "collapsed": false
   },
   "outputs": [],
   "source": [
    "# get each game id\n",
    "sql = '''select DISTINCT nba.results.\"GameId\" from nba.results'''\n",
    "\n",
    "cursor.execute(sql)\n",
    "games = [row[0] for row in cursor]\n",
    "\n",
    "wins = 0.0\n",
    "ngames = 0.0\n",
    "\n",
    "predicted_all = []\n",
    "offered_all = []\n",
    "result_all = []\n",
    "\n",
    "for game in games:\n",
    "    sql = '''select nba.results.\"GameId\", (nba.results.\"AwayScore\" - nba.results.\"HomeScore\") as \"Result\", \n",
    "            nba.predictions.\"Spread\" as \"Prediction\", nba.lines.\"HomeSpread\" as \"Offered\",\n",
    "            nba.predictions.\"Spread\" - (nba.results.\"AwayScore\" - nba.results.\"HomeScore\") as \"P-R\",\n",
    "            nba.lines.\"HomeSpread\" - (nba.results.\"AwayScore\" - nba.results.\"HomeScore\") as \"O-R\",\n",
    "            nba.predictions.\"N\"\n",
    "            FROM nba.results, nba.predictions, nba.lines\n",
    "            WHERE nba.results.\"GameId\"=nba.predictions.\"GameId\" AND nba.results.\"GameId\"=nba.lines.\"GameId\"\n",
    "            AND nba.results.\"GameId\" = '%s' \n",
    "            ORDER BY nba.predictions.\"N\" '''%game\n",
    "    df = pd.read_sql(sql, connection)\n",
    "    predicted = np.average(df['Prediction'].values)\n",
    "    predicted_std = np.std(df['Prediction'].values)\n",
    "    offered = np.average(df['Offered'].values)\n",
    "    result = np.average(df['Result'].values)\n",
    "#     print df\n",
    "#     print predicted\n",
    "#     print offered\n",
    "#     print result\n",
    "    \n",
    "    if True: # select a subset of games\n",
    "    \n",
    "        predicted_all.append(predicted)\n",
    "        offered_all.append(offered)\n",
    "        result_all.append(result)\n",
    "        \n",
    "        ngames += 1.0\n",
    "        if ((result < offered) and (predicted < offered)) or ((result > offered) and (predicted > offered)):\n",
    "            wins += 1.0\n",
    "\n",
    "\n",
    "print wins\n",
    "print ngames\n",
    "print wins/ngames\n",
    "\n",
    "bins = np.linspace(-50,50,20)\n",
    "plt.hist(np.asarray(result_all)-np.asarray(predicted_all),bins,histtype='step',color='b',label=\"Model\")\n",
    "plt.hist(np.asarray(result_all)-np.asarray(offered_all),bins,histtype='step',color='g',label=\"Line\")\n",
    "plt.xlabel(\"Actual -  Predicted Spread\")\n",
    "plt.legend()\n",
    "plt.show()"
   ]
  },
  {
   "cell_type": "code",
   "execution_count": null,
   "metadata": {
    "collapsed": false
   },
   "outputs": [],
   "source": [
    "print np.std(result-offered)\n",
    "print np.random.normal(0,11.6)"
   ]
  },
  {
   "cell_type": "code",
   "execution_count": null,
   "metadata": {
    "collapsed": true
   },
   "outputs": [],
   "source": []
  }
 ],
 "metadata": {
  "kernelspec": {
   "display_name": "Python 2",
   "language": "python",
   "name": "python2"
  },
  "language_info": {
   "codemirror_mode": {
    "name": "ipython",
    "version": 2
   },
   "file_extension": ".py",
   "mimetype": "text/x-python",
   "name": "python",
   "nbconvert_exporter": "python",
   "pygments_lexer": "ipython2",
   "version": "2.7.12"
  }
 },
 "nbformat": 4,
 "nbformat_minor": 0
}
