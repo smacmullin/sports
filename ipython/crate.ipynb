{
 "cells": [
  {
   "cell_type": "code",
   "execution_count": null,
   "metadata": {
    "collapsed": false
   },
   "outputs": [],
   "source": [
    "import configobj\n",
    "from crate import client\n",
    "import numpy as np\n",
    "import pandas as pd\n",
    "import matplotlib\n",
    "matplotlib.use(\"nbagg\")\n",
    "import matplotlib.pyplot as plt\n",
    "\n",
    "import pymc3 as pm\n",
    "import theano.tensor as tt\n",
    "\n",
    "from teams import nba_teams\n",
    "team_keys = nba_teams\n",
    "\n",
    "def index_teams(team_keys):\n",
    "    team_index = {}\n",
    "    for i,key in enumerate(team_keys):\n",
    "        team_index[team_keys[key]] = i\n",
    "        \n",
    "    return team_index\n",
    "    \n",
    "team_index = index_teams(team_keys)\n",
    "\n",
    "print team_index"
   ]
  },
  {
   "cell_type": "code",
   "execution_count": null,
   "metadata": {
    "collapsed": false
   },
   "outputs": [],
   "source": [
    "# use the last N games from a team to predict the next game\n",
    "# query for the last N team games\n",
    "# for each of their opponents \n",
    "    \n",
    "config = configobj.ConfigObj(\"/Users/smacmullin/sports/crate.ini\")\n",
    "crate_host = config[\"crate\"][\"host_url\"]\n",
    "\n",
    "connection = client.connect(crate_host)\n",
    "print connection.client._active_servers\n",
    "cursor = connection.cursor()\n",
    "\n",
    "date = 20151120\n",
    "\n",
    "frames = []\n",
    "\n",
    "for team in team_index.keys():\n",
    "\n",
    "    sql = '''\n",
    "    SELECT \n",
    "    nba.games.\"GameId\" as \"GameId\", \n",
    "    nba.games.\"GameDate\" as \"GameDate\", \n",
    "    nba.games.\"HomeTeam\" as \"HomeTeam\", \n",
    "    nba.games.\"AwayTeam\" as \"AwayTeam\",\n",
    "    nba.results.\"AwayScore\" as \"AwayScore\", \n",
    "    nba.results.\"HomeScore\" as \"HomeScore\",\n",
    "    nba.lines.\"HomeSpread\" as \"HomeSpread\", \n",
    "    nba.lines.\"OverUnder\" as \"OverUnder\"\n",
    "    FROM nba.games, nba.lines, nba.results\n",
    "    WHERE nba.games.\"GameId\" = nba.results.\"GameId\"\n",
    "    AND nba.games.\"GameId\" = nba.lines.\"GameId\"\n",
    "    AND (nba.games.\"HomeTeam\" = '%s' or nba.games.\"AwayTeam\" = '%s')\n",
    "    AND nba.games.\"GameDate\" < %i\n",
    "    ORDER BY nba.games.\"GameDate\" DESC\n",
    "    LIMIT 3\n",
    "    '''%(team,team,date)\n",
    "\n",
    "    df = pd.read_sql(sql, connection)\n",
    "\n",
    "    frames.append(df)\n",
    "        \n",
    "df = pd.concat(frames)   \n",
    "\n",
    "print df"
   ]
  },
  {
   "cell_type": "code",
   "execution_count": null,
   "metadata": {
    "collapsed": false
   },
   "outputs": [],
   "source": [
    "observed_home_score = df['HomeScore'].values\n",
    "observed_away_score = df['AwayScore'].values\n",
    "\n",
    "home_team = [team_index[i] for i in df['HomeTeam'].values]\n",
    "away_team = [team_index[i] for i in df['AwayTeam'].values]\n",
    "\n",
    "num_teams = len(team_index)"
   ]
  },
  {
   "cell_type": "code",
   "execution_count": null,
   "metadata": {
    "collapsed": false
   },
   "outputs": [],
   "source": [
    "model = pm.Model()\n",
    "\n",
    "with pm.Model() as model:\n",
    "    # global model parameters\n",
    "    baseline_home = pm.Normal('baseline_home', 0., tau=0.01)\n",
    "    tau_offense = pm.Gamma('tau_offense', .1, .1)  # tau for a normal distribution is 1/sigma**2\n",
    "    tau_defense = pm.Gamma('tau_defense', .1, .1)\n",
    "    intercept = pm.Normal('intercept',  4.4, tau=0.1)\n",
    "\n",
    "    # team-specific model parameters\n",
    "    offense_skills = pm.Normal(\"offense_skills\",\n",
    "                            mu=0.0,\n",
    "                            tau=tau_offense,\n",
    "                            shape=num_teams)\n",
    "\n",
    "    defense_skills = pm.Normal(\"defense_skills\",\n",
    "                            mu=0.0,\n",
    "                            tau=tau_defense,\n",
    "                            shape=num_teams)\n",
    "\n",
    "    offense_skill = pm.Deterministic('offense_skill', offense_skills - tt.mean(offense_skills))\n",
    "    defense_skill = pm.Deterministic('defense_skill', defense_skills - tt.mean(defense_skills))\n",
    "\n",
    "    home_theta = np.exp(intercept + baseline_home + offense_skill[home_team] - defense_skill[away_team])\n",
    "    away_theta = np.exp(intercept + offense_skill[away_team] - defense_skill[home_team])\n",
    "    # likelihood of observed data\n",
    "    home_points = pm.Poisson('home_points', mu=home_theta, observed=observed_home_score)\n",
    "    away_points = pm.Poisson('away_points', mu=away_theta, observed=observed_away_score)"
   ]
  },
  {
   "cell_type": "code",
   "execution_count": null,
   "metadata": {
    "collapsed": false
   },
   "outputs": [],
   "source": [
    "with model:\n",
    "    start = pm.find_MAP()\n",
    "    step = pm.NUTS(state=start)\n",
    "    trace = pm.sample(1000, step, start=start)\n",
    "    pm.traceplot(trace)\n",
    "    plt.show()"
   ]
  },
  {
   "cell_type": "code",
   "execution_count": null,
   "metadata": {
    "collapsed": true
   },
   "outputs": [],
   "source": []
  }
 ],
 "metadata": {
  "kernelspec": {
   "display_name": "Python 2",
   "language": "python",
   "name": "python2"
  },
  "language_info": {
   "codemirror_mode": {
    "name": "ipython",
    "version": 2
   },
   "file_extension": ".py",
   "mimetype": "text/x-python",
   "name": "python",
   "nbconvert_exporter": "python",
   "pygments_lexer": "ipython2",
   "version": "2.7.12"
  }
 },
 "nbformat": 4,
 "nbformat_minor": 0
}
