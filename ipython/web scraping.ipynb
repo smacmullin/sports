{
 "cells": [
  {
   "cell_type": "code",
   "execution_count": null,
   "metadata": {
    "collapsed": false
   },
   "outputs": [],
   "source": [
    "from bs4 import BeautifulSoup\n",
    "from fuzzywuzzy import process\n",
    "from fuzzywuzzy import fuzz\n",
    "from teams import ncaa_fb_teams, nfl_teams, nba_teams\n",
    "import urllib2\n",
    "cbs = 'http://www.covers.com/Sports/NBA/Matchups?selectedDate=2016-10-28'\n",
    "page = urllib2.urlopen(cbs)"
   ]
  },
  {
   "cell_type": "code",
   "execution_count": null,
   "metadata": {
    "collapsed": false
   },
   "outputs": [],
   "source": [
    "soup = BeautifulSoup(page)"
   ]
  },
  {
   "cell_type": "code",
   "execution_count": null,
   "metadata": {
    "collapsed": false
   },
   "outputs": [],
   "source": [
    "print soup.prettify()"
   ]
  },
  {
   "cell_type": "code",
   "execution_count": null,
   "metadata": {
    "collapsed": false
   },
   "outputs": [],
   "source": [
    "teams = [team for team in nba_teams]\n",
    "\n",
    "all_tables=soup.find_all('table')\n",
    "\n",
    "results = []\n",
    "\n",
    "for table in all_tables:\n",
    "    \n",
    "    game_result = []\n",
    "    \n",
    "    for row in table.findAll('tr'): \n",
    "        \n",
    "        team_cells = row.findAll('td',{'class':'teamName'})\n",
    "        score_cells = row.findAll('td',{'class':'finalScore'})\n",
    "\n",
    "        for cell in team_cells:\n",
    "            \n",
    "            guesses = process.extract(cell.text, teams, limit=4)\n",
    "            matches = []\n",
    "            for guess in guesses:\n",
    "                ratio = fuzz.ratio(guess, cell.text)\n",
    "                matches.append({'team': guess[0],\n",
    "                                'fuzz': guess[1],\n",
    "                                'ratio': ratio})\n",
    "\n",
    "            max_match = max(matches, key=lambda x: x['ratio'])\n",
    "            team_longname  = max_match['team']\n",
    "            team = nba_teams[team_longname]\n",
    "            \n",
    "            #print max_match\n",
    "            #print team_longname\n",
    "            #print team\n",
    "            #raw_input()\n",
    "            \n",
    "        for cell in score_cells:\n",
    "            score = float(cell.text.split('\\n')[0])\n",
    "            \n",
    "            game_result.append({\"Team\":team, \"Score\":score})\n",
    "\n",
    "    results.append(game_result)\n",
    "\n",
    "#print results\n",
    "results = [game for game in results if len(game)>0]\n",
    "print results"
   ]
  },
  {
   "cell_type": "code",
   "execution_count": null,
   "metadata": {
    "collapsed": false
   },
   "outputs": [],
   "source": [
    "from datetime import date, timedelta\n",
    "yesterday = date.today() - timedelta(1)\n",
    "gamedate = yesterday.strftime('%Y%m%d')\n",
    "\n",
    "for game in results:\n",
    "    home_team = game[1]['Team']\n",
    "    away_team = game[0]['Team']\n",
    "    home_score = game[1]['Score']\n",
    "    away_score = game[0]['Score']\n",
    "    game_id = gamedate+'_'+away_team+'_'+home_team\n",
    "    print game_id, away_score, home_score"
   ]
  },
  {
   "cell_type": "code",
   "execution_count": null,
   "metadata": {
    "collapsed": false
   },
   "outputs": [],
   "source": [
    "teams = ['Ohio', 'Ohio State']\n",
    "string = 'Bet on Ohio State -9.5'\n",
    "\n",
    "guesses = process.extract(string, teams,limit=4)\n",
    "matches = []\n",
    "for guess in guesses:\n",
    "    ratio = fuzz.ratio(guess, string)\n",
    "    matches.append({'team':guess[0],\n",
    "                    'fuzz':guess[1],\n",
    "                   'ratio':ratio})\n",
    "    \n",
    "\n",
    "max_match = max(matches, key=lambda x:x['ratio'])\n",
    "print max_match"
   ]
  },
  {
   "cell_type": "code",
   "execution_count": null,
   "metadata": {
    "collapsed": false
   },
   "outputs": [],
   "source": [
    "teams = [team for team in nba_teams]\n",
    "\n",
    "all_tables=soup.find_all('table')\n",
    "\n",
    "results = []\n",
    "\n",
    "print soup.find_all('div',{'class':'cmg_matchup_header_team_names'})\n",
    "\n",
    "\n",
    "# for table in all_tables:\n",
    "    \n",
    "#     game_result = []\n",
    "    \n",
    "#     print table\n",
    "    \n",
    "#     for row in table.findAll('tr'):\n",
    "        \n",
    "#         team_cells = row.findAll('td',{'class':'teamName'})\n",
    "#         score_cells = row.findAll('td',{'class':'finalScore'})\n",
    "\n",
    "#         for cell in team_cells:\n",
    "            \n",
    "#             guesses = process.extract(cell.text, teams, limit=4)\n",
    "#             matches = []\n",
    "#             for guess in guesses:\n",
    "#                 ratio = fuzz.ratio(guess, cell.text)\n",
    "#                 matches.append({'team': guess[0],\n",
    "#                                 'fuzz': guess[1],\n",
    "#                                 'ratio': ratio})\n",
    "\n",
    "#             max_match = max(matches, key=lambda x: x['ratio'])\n",
    "#             team_longname  = max_match['team']\n",
    "#             team = nba_teams[team_longname]\n",
    "            \n",
    "#             #print max_match\n",
    "#             #print team_longname\n",
    "#             #print team\n",
    "#             #raw_input()\n",
    "            \n",
    "#         for cell in score_cells:\n",
    "#             score = float(cell.text.split('\\n')[0])\n",
    "            \n",
    "#             game_result.append({\"Team\":team, \"Score\":score})\n",
    "\n",
    "#     results.append(game_result)\n",
    "\n",
    "# #print results\n",
    "# results = [game for game in results if len(game)>0]\n",
    "# print results"
   ]
  },
  {
   "cell_type": "code",
   "execution_count": null,
   "metadata": {
    "collapsed": true
   },
   "outputs": [],
   "source": [
    ""
   ]
  }
 ],
 "metadata": {
  "kernelspec": {
   "display_name": "Python 2",
   "language": "python",
   "name": "python2"
  },
  "language_info": {
   "codemirror_mode": {
    "name": "ipython",
    "version": 2.0
   },
   "file_extension": ".py",
   "mimetype": "text/x-python",
   "name": "python",
   "nbconvert_exporter": "python",
   "pygments_lexer": "ipython2",
   "version": "2.7.12"
  }
 },
 "nbformat": 4,
 "nbformat_minor": 0
}